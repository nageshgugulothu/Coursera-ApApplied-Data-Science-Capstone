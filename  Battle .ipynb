{
    "cells": [
        {
            "cell_type": "markdown",
            "metadata": {},
            "source": "# The Battle of Neighborhoods"
        },
        {
            "cell_type": "markdown",
            "metadata": {},
            "source": "## 1. Business Problem"
        },
        {
            "cell_type": "markdown",
            "metadata": {},
            "source": "The city where I live - Irvine, California, is a very nice city for family-oriented people like myself. It has been on the \"U.S. Top 10 Safest Cities With Population Larger than 100,000\" list for many years. It has modern infrastructures, good facilities, and rich multi-cultural venues to make living in Irvine a splendid experience. However, there is one shortcoming: the leading-edge computer and Internet job opportunities are limited compared to some other tech-hub cities in Bay Area or even in Los Angeles vicinities. This lack of challenging high-tech jobs made many Irvine high-tech talents to relocate to other California cities where job opportunities are rosier (I myself am looking for such move too).\n\nWhen a job candidate searching for a specific opening, he/she will also consider whether the job city fits ones family's lifestyle so that they could like the environment in longterm. Although many factors may effect one's life quality, I believe (hope many others who are looking to relocation also agree with me) that the venues in where one lives does play an important role. If the venue composition around your neighborhood looks like that in Irvine, it makes you feel at home.\n\nTherefore, the purpose of this project is to create a scoring function / classifier that can determine how similar a target city is to Irvine - from the point of view of the venues composition. Doing so allows us to generate a list of target cities sorted with their similarity to the city of Irvine, which provide a good reference about life quality in the target cities that relocating job-seekers can consult."
        },
        {
            "cell_type": "markdown",
            "metadata": {},
            "source": "# 2. Data Used"
        },
        {
            "cell_type": "markdown",
            "metadata": {},
            "source": "The project will use \"Cities in California\" wikipedia page to scrape all the city names and its population, then filter out only cities that with a population greater than 100,000. FourSquare API will be used to retrieve venues data for Irvine and all other candidate cities. In the sequel, similarity measurement will be calculated out to determine how similar a target city is to the city of Irvine."
        },
        {
            "cell_type": "markdown",
            "metadata": {},
            "source": "# 3. Methodology"
        },
        {
            "cell_type": "markdown",
            "metadata": {},
            "source": "### a. Preparation Of Main DataFrame "
        },
        {
            "cell_type": "markdown",
            "metadata": {},
            "source": "In this project it is assumed the targeted relocation region is limited to California only (a legit concern for those who are spoiled buy sun shine and beaches). First, a wikipedia page List of Cities and Towns In California was used to select a set of target California cities.\n\nThe data scrapped out of the page are: city name, population, and size in square killometers (the need of city size will become clear later in this section). Since population of Irvine is over 250,000, the original data have been filtered - only cities having a population more than 100,000 were selected for consideration.\n\nThe targeted California city data set now contains the basic information except the geo-location info of the cities. To obtain geo data, Nominatim was used to loop through each row of the city table to fetch latitude/longitude information, and two columns ('Latitude', 'Longitude') were appended to the data frame.\n\nThe last column of data to be added into the data frame is the radius that would be used later when query venues in a city. The reason to keep a specific radius number for each city is that, using a constant radius for all the cities introduced data bias: for small cities, it would collect too many noice data from neighboring cities; while for big cities, the data coverage would be too small. To compensate for the city size, the radius used in this project was determined as:\n\nradius = sqrt(city_size/PI)\n\nThe final data frame is shown in Section [II.-c.] of the project code. Also the target cities in the data frame were overlaid on the map in Section [II.-d.] where the mark sizes are proportional to the city size."
        },
        {
            "cell_type": "markdown",
            "metadata": {},
            "source": "### b. Fetch and Join Venues Data"
        },
        {
            "cell_type": "markdown",
            "metadata": {},
            "source": "After the main data frame was built, the next step was fetching the venues data for each city in the data frame. The FourSquare API was used, and the number of returned venue items was limited to 100. As mentioned earlier, the radius set for each query is dynamic - it is proportional to the city size, in order to improve the data accuracy. After the process finished, there were total 5416 rows in the venues table (Section [III.], Section [IV.])."
        },
        {
            "cell_type": "markdown",
            "metadata": {},
            "source": "### c. Venue Data Basic Analysis"
        },
        {
            "cell_type": "markdown",
            "metadata": {},
            "source": "There were total 325 unique venue categories in all fetched venues data. A brief examination of the venues data also found some data quality problems such as: 1) Two cities returned no venue data and hence excluded from the data frame; 2) A few cities return way less than 100 venues (in single digit), which could be far from the ground truth of the cities."
        },
        {
            "cell_type": "markdown",
            "metadata": {},
            "source": "### d. Venue Category Analysis"
        },
        {
            "cell_type": "markdown",
            "metadata": {},
            "source": "A statistical analysis on venue categories has also been done to reveal the basic venue categorical stats. Each category has been one-hot encoded and appended to the data frame. Venues data were grouped by city and means and frequecies were also calculated. Top 5 most frequeted venues for each city were printed out to give a brief view of what are some of most frequented venues in a city. At last, Top 10 most common venues were displayed for all cities."
        },
        {
            "cell_type": "markdown",
            "metadata": {},
            "source": "### e. Target Cities Clustering Analysis"
        },
        {
            "cell_type": "markdown",
            "metadata": {},
            "source": "To learn the similarity among all target cities, a popular unsuperwised machine learning method, k-mean clustering, was used to conduct learning from the venues data. Different values of k has been experimented, and it looked k=20 gave a satisfactory result."
        },
        {
            "cell_type": "markdown",
            "metadata": {},
            "source": "# 4. Results "
        },
        {
            "cell_type": "markdown",
            "metadata": {},
            "source": "The k-mean clustering labeled each city with its categorical label (Section [VI.-a.]), and the result was also overlaid on the map (Section [VI.-b.]). There are 10 cities are in the same category (cat-#3 as shown in Section[VI.-d.])."
        },
        {
            "cell_type": "markdown",
            "metadata": {},
            "source": "# 5. Discussions"
        },
        {
            "cell_type": "markdown",
            "metadata": {},
            "source": "The 10 cities picked by k-mean clustering appeared very reasonable targets which resembles city of Irvine (as I personally have been to all of them). However, the author does believe there are rooms to improve the accuracy of the result if the data quality could be higher. For example, as mentioned before, quite some cities does not have much venue items returned from FourSquare API, give us adaquate reason to doubt if the FourSquare registered sufficient, representative venues data for every city/region. There are also other hints about data imcompleteness. E.g. it is questionable that why Chinese restaurant did not make in the top 10 most common venues list for Irvine (as it has so many of them, maybe they are not keen to registering on FourSquare due to difficiency in English)? Is Irvine's top 1 venue truly the burger joint? Another observation is that FourSquare venues data is biased towards food/drink type of venues, education facilities, entertainment centers, libraries, hospitals, event centers are rarely registed in FourSquare's data set, in spite of them are all important factors to determine the life quality of a city. If we can manage to integrate more data sources to cover those aspects of the city charateristics, the candidate city selection method introduced in this project will be more accurate and practical."
        },
        {
            "cell_type": "markdown",
            "metadata": {},
            "source": "# 6. Conclusion"
        },
        {
            "cell_type": "markdown",
            "metadata": {},
            "source": "n this project, a method has been introduced to select targeted relocation cities with lifestyle similar to that of the home city of Irvine. The introduced method uses a simplified lifestyle measurement which only bases on FourSquare venues data in each city, and also the method assumes the target area is limited inside California. Cities basic information is collected by scraping a page on Wikipedia, and then venues data for each city are queried from FourSqure API. K-mean clustering has been used on venues data to learn inter-city similarity relationship, and 10 cities that are closely ressemble city of Irvine are chosen as targets for relocation. Although the selected 10 cities looks reasonable, the further work will need to expand the data coverage to include many more lifestyle aspects of a modern city"
        },
        {
            "cell_type": "code",
            "execution_count": null,
            "metadata": {},
            "outputs": [],
            "source": ""
        }
    ],
    "metadata": {
        "kernelspec": {
            "display_name": "Python 3.6",
            "language": "python",
            "name": "python3"
        },
        "language_info": {
            "codemirror_mode": {
                "name": "ipython",
                "version": 3
            },
            "file_extension": ".py",
            "mimetype": "text/x-python",
            "name": "python",
            "nbconvert_exporter": "python",
            "pygments_lexer": "ipython3",
            "version": "3.6.9"
        }
    },
    "nbformat": 4,
    "nbformat_minor": 1
}